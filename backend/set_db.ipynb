{
 "cells": [
  {
   "cell_type": "code",
   "execution_count": 46,
   "metadata": {},
   "outputs": [],
   "source": [
    "import pandas as pd\n",
    "import numpy as np \n",
    "import google.generativeai as genai\n",
    "from langchain_core.prompts import PromptTemplate"
   ]
  },
  {
   "cell_type": "code",
   "execution_count": 47,
   "metadata": {},
   "outputs": [],
   "source": [
    "df = pd.read_csv(\"MoviesOnStreamingPlatforms_updated.csv\")"
   ]
  },
  {
   "cell_type": "code",
   "execution_count": 48,
   "metadata": {},
   "outputs": [
    {
     "data": {
      "text/plain": [
       "ID                     0\n",
       "Title                  0\n",
       "Year                   0\n",
       "Age                 9390\n",
       "IMDb                 571\n",
       "Rotten Tomatoes    11586\n",
       "Netflix                0\n",
       "Hulu                   0\n",
       "Prime Video            0\n",
       "Disney+                0\n",
       "Type                   0\n",
       "Directors            726\n",
       "Genres               275\n",
       "Country              435\n",
       "Language             614\n",
       "Runtime              592\n",
       "dtype: int64"
      ]
     },
     "execution_count": 48,
     "metadata": {},
     "output_type": "execute_result"
    }
   ],
   "source": [
    "df.isnull().sum()"
   ]
  },
  {
   "cell_type": "code",
   "execution_count": 49,
   "metadata": {},
   "outputs": [
    {
     "data": {
      "text/html": [
       "<div>\n",
       "<style scoped>\n",
       "    .dataframe tbody tr th:only-of-type {\n",
       "        vertical-align: middle;\n",
       "    }\n",
       "\n",
       "    .dataframe tbody tr th {\n",
       "        vertical-align: top;\n",
       "    }\n",
       "\n",
       "    .dataframe thead th {\n",
       "        text-align: right;\n",
       "    }\n",
       "</style>\n",
       "<table border=\"1\" class=\"dataframe\">\n",
       "  <thead>\n",
       "    <tr style=\"text-align: right;\">\n",
       "      <th></th>\n",
       "      <th>ID</th>\n",
       "      <th>Title</th>\n",
       "      <th>Year</th>\n",
       "      <th>Age</th>\n",
       "      <th>IMDb</th>\n",
       "      <th>Rotten Tomatoes</th>\n",
       "      <th>Netflix</th>\n",
       "      <th>Hulu</th>\n",
       "      <th>Prime Video</th>\n",
       "      <th>Disney+</th>\n",
       "      <th>Type</th>\n",
       "      <th>Directors</th>\n",
       "      <th>Genres</th>\n",
       "      <th>Country</th>\n",
       "      <th>Language</th>\n",
       "      <th>Runtime</th>\n",
       "    </tr>\n",
       "  </thead>\n",
       "  <tbody>\n",
       "    <tr>\n",
       "      <th>0</th>\n",
       "      <td>1</td>\n",
       "      <td>Inception</td>\n",
       "      <td>2010</td>\n",
       "      <td>13+</td>\n",
       "      <td>8.8</td>\n",
       "      <td>87%</td>\n",
       "      <td>1.0</td>\n",
       "      <td>0</td>\n",
       "      <td>0</td>\n",
       "      <td>0</td>\n",
       "      <td>0</td>\n",
       "      <td>Christopher Nolan</td>\n",
       "      <td>Action,Adventure,Sci-Fi,Thriller</td>\n",
       "      <td>United States,United Kingdom</td>\n",
       "      <td>English,Japanese,French</td>\n",
       "      <td>148.0</td>\n",
       "    </tr>\n",
       "    <tr>\n",
       "      <th>1</th>\n",
       "      <td>2</td>\n",
       "      <td>The Matrix</td>\n",
       "      <td>1999</td>\n",
       "      <td>18+</td>\n",
       "      <td>8.7</td>\n",
       "      <td>87%</td>\n",
       "      <td>1.0</td>\n",
       "      <td>0</td>\n",
       "      <td>0</td>\n",
       "      <td>0</td>\n",
       "      <td>0</td>\n",
       "      <td>Lana Wachowski,Lilly Wachowski</td>\n",
       "      <td>Action,Sci-Fi</td>\n",
       "      <td>United States</td>\n",
       "      <td>English</td>\n",
       "      <td>136.0</td>\n",
       "    </tr>\n",
       "    <tr>\n",
       "      <th>2</th>\n",
       "      <td>3</td>\n",
       "      <td>Avengers: Infinity War</td>\n",
       "      <td>2018</td>\n",
       "      <td>13+</td>\n",
       "      <td>8.5</td>\n",
       "      <td>84%</td>\n",
       "      <td>1.0</td>\n",
       "      <td>0</td>\n",
       "      <td>0</td>\n",
       "      <td>0</td>\n",
       "      <td>0</td>\n",
       "      <td>Anthony Russo,Joe Russo</td>\n",
       "      <td>Action,Adventure,Sci-Fi</td>\n",
       "      <td>United States</td>\n",
       "      <td>English</td>\n",
       "      <td>149.0</td>\n",
       "    </tr>\n",
       "    <tr>\n",
       "      <th>3</th>\n",
       "      <td>4</td>\n",
       "      <td>Back to the Future</td>\n",
       "      <td>1985</td>\n",
       "      <td>7+</td>\n",
       "      <td>8.5</td>\n",
       "      <td>96%</td>\n",
       "      <td>1.0</td>\n",
       "      <td>0</td>\n",
       "      <td>0</td>\n",
       "      <td>0</td>\n",
       "      <td>0</td>\n",
       "      <td>Robert Zemeckis</td>\n",
       "      <td>Adventure,Comedy,Sci-Fi</td>\n",
       "      <td>United States</td>\n",
       "      <td>English</td>\n",
       "      <td>116.0</td>\n",
       "    </tr>\n",
       "    <tr>\n",
       "      <th>4</th>\n",
       "      <td>5</td>\n",
       "      <td>The Good, the Bad and the Ugly</td>\n",
       "      <td>1966</td>\n",
       "      <td>18+</td>\n",
       "      <td>8.8</td>\n",
       "      <td>97%</td>\n",
       "      <td>1.0</td>\n",
       "      <td>0</td>\n",
       "      <td>1</td>\n",
       "      <td>0</td>\n",
       "      <td>0</td>\n",
       "      <td>Sergio Leone</td>\n",
       "      <td>Western</td>\n",
       "      <td>Italy,Spain,West Germany</td>\n",
       "      <td>Italian</td>\n",
       "      <td>161.0</td>\n",
       "    </tr>\n",
       "  </tbody>\n",
       "</table>\n",
       "</div>"
      ],
      "text/plain": [
       "   ID                           Title  Year  Age  IMDb Rotten Tomatoes  \\\n",
       "0   1                       Inception  2010  13+   8.8             87%   \n",
       "1   2                      The Matrix  1999  18+   8.7             87%   \n",
       "2   3          Avengers: Infinity War  2018  13+   8.5             84%   \n",
       "3   4              Back to the Future  1985   7+   8.5             96%   \n",
       "4   5  The Good, the Bad and the Ugly  1966  18+   8.8             97%   \n",
       "\n",
       "   Netflix  Hulu  Prime Video  Disney+  Type                       Directors  \\\n",
       "0      1.0     0            0        0     0               Christopher Nolan   \n",
       "1      1.0     0            0        0     0  Lana Wachowski,Lilly Wachowski   \n",
       "2      1.0     0            0        0     0         Anthony Russo,Joe Russo   \n",
       "3      1.0     0            0        0     0                 Robert Zemeckis   \n",
       "4      1.0     0            1        0     0                    Sergio Leone   \n",
       "\n",
       "                             Genres                       Country  \\\n",
       "0  Action,Adventure,Sci-Fi,Thriller  United States,United Kingdom   \n",
       "1                     Action,Sci-Fi                 United States   \n",
       "2           Action,Adventure,Sci-Fi                 United States   \n",
       "3           Adventure,Comedy,Sci-Fi                 United States   \n",
       "4                           Western      Italy,Spain,West Germany   \n",
       "\n",
       "                  Language  Runtime  \n",
       "0  English,Japanese,French    148.0  \n",
       "1                  English    136.0  \n",
       "2                  English    149.0  \n",
       "3                  English    116.0  \n",
       "4                  Italian    161.0  "
      ]
     },
     "execution_count": 49,
     "metadata": {},
     "output_type": "execute_result"
    }
   ],
   "source": [
    "df.head()"
   ]
  },
  {
   "cell_type": "code",
   "execution_count": 50,
   "metadata": {},
   "outputs": [
    {
     "data": {
      "text/plain": [
       "array(['13+', '18+', '7+', nan, 'all', '16+'], dtype=object)"
      ]
     },
     "execution_count": 50,
     "metadata": {},
     "output_type": "execute_result"
    }
   ],
   "source": [
    "df[\"Age\"].unique()"
   ]
  },
  {
   "cell_type": "code",
   "execution_count": 51,
   "metadata": {},
   "outputs": [
    {
     "data": {
      "text/plain": [
       "{'ID': 1,\n",
       " 'Title': 'Inception',\n",
       " 'Year': 2010,\n",
       " 'Age': '13+',\n",
       " 'IMDb': 8.8,\n",
       " 'Rotten Tomatoes': '87%',\n",
       " 'Netflix': 1.0,\n",
       " 'Hulu': 0,\n",
       " 'Prime Video': 0,\n",
       " 'Disney+': 0,\n",
       " 'Type': 0,\n",
       " 'Directors': 'Christopher Nolan',\n",
       " 'Genres': 'Action,Adventure,Sci-Fi,Thriller',\n",
       " 'Country': 'United States,United Kingdom',\n",
       " 'Language': 'English,Japanese,French',\n",
       " 'Runtime': 148.0}"
      ]
     },
     "execution_count": 51,
     "metadata": {},
     "output_type": "execute_result"
    }
   ],
   "source": [
    "import json\n",
    "row_as_dict = df.iloc[0].to_dict()\n",
    "row_as_dict"
   ]
  },
  {
   "cell_type": "code",
   "execution_count": 52,
   "metadata": {},
   "outputs": [],
   "source": [
    "row_as_dict[\"Directors\"] = None\n",
    "row_as_dict[\"IMDb\"] = None"
   ]
  },
  {
   "cell_type": "code",
   "execution_count": 53,
   "metadata": {},
   "outputs": [
    {
     "data": {
      "text/plain": [
       "'{\"ID\": 1, \"Title\": \"Inception\", \"Year\": 2010, \"Age\": \"13+\", \"IMDb\": null, \"Rotten Tomatoes\": \"87%\", \"Netflix\": 1.0, \"Hulu\": 0, \"Prime Video\": 0, \"Disney+\": 0, \"Type\": 0, \"Directors\": null, \"Genres\": \"Action,Adventure,Sci-Fi,Thriller\", \"Country\": \"United States,United Kingdom\", \"Language\": \"English,Japanese,French\", \"Runtime\": 148.0}'"
      ]
     },
     "execution_count": 53,
     "metadata": {},
     "output_type": "execute_result"
    }
   ],
   "source": [
    "row_as_json =json.dumps(row_as_dict)\n",
    "row_as_json"
   ]
  },
  {
   "cell_type": "code",
   "execution_count": 54,
   "metadata": {},
   "outputs": [],
   "source": [
    "fill_missing_value_prompt = \"\"\"\n",
    "You are a highly skilled data analyst with extensive experience in handling and processing movie datasets. Your expertise lies in identifying missing values and providing insights on how to fill those gaps effectively while ensuring data integrity and accuracy.\n",
    "\n",
    "Your task is to assist in filling missing values in a movie dataset.\n",
    "\n",
    "The runtime will be in minitues\n",
    "\n",
    "The Age will be these ['13+', '18+', '7+', 'all', '16+']\n",
    "**Input Type**: \n",
    "A dictionary of key-value pairs where the keys represent column names and the values represent the available data. Some values may be missing (represented as null or None).\n",
    "\n",
    "**Output Type**: \n",
    "A JSON object that contains only the missing values, filled in with appropriate suggestions based on the dataset’s context. You are expected to maintain data consistency and offer plausible replacements where possible.\n",
    "\n",
    "### Example Input:\n",
    "\n",
    "{{\n",
    "    \"ID\": 1,\n",
    "    \"Title\": \"Inception\",\n",
    "    \"Year\": 2010,\n",
    "    \"Age\": \"13+\",\n",
    "    \"IMDb\": null,\n",
    "    \"Rotten Tomatoes\": \"87%\",\n",
    "    \"Netflix\": 1.0,\n",
    "    \"Hulu\": 0,\n",
    "    \"Prime Video\": 0,\n",
    "    \"Disney+\": 0,\n",
    "    \"Type\": 0,\n",
    "    \"Directors\": null,\n",
    "    \"Genres\": \"Action, Adventure, Sci-Fi, Thriller\",\n",
    "    \"Country\": \"United States, United Kingdom\",\n",
    "    \"Language\": \"English, Japanese, French\",\n",
    "    \"Runtime\": 148.0\n",
    "}}\n",
    "\n",
    "###Example Output\n",
    "{{\n",
    "    \"IMDb\": \"8.8\",\n",
    "    \"Directors\": \"Christopher Nolan\"\n",
    "}}\n",
    "Yoy have to check for null values amd return json with actual values with the exact column name and JSON only.\n",
    "\n",
    "Give output for the following {row_json} only in json\n",
    "JUST THE JSON NOTHING ELSE \n",
    "\"\"\""
   ]
  },
  {
   "cell_type": "code",
   "execution_count": 55,
   "metadata": {},
   "outputs": [],
   "source": [
    "fill_values_template = PromptTemplate(\n",
    "    input_variables= [\"row_json\"],\n",
    "    template=fill_missing_value_prompt\n",
    ")"
   ]
  },
  {
   "cell_type": "code",
   "execution_count": 56,
   "metadata": {},
   "outputs": [],
   "source": [
    "import env\n",
    "genai.configure(api_key = env.api_key)\n",
    "model = genai.GenerativeModel(\"gemini-pro\")"
   ]
  },
  {
   "cell_type": "code",
   "execution_count": 57,
   "metadata": {},
   "outputs": [
    {
     "data": {
      "text/plain": [
       "'{\"ID\":1,\"Title\":\"Inception\",\"Year\":2010,\"Age\":\"13+\",\"IMDb\":8.8,\"Rotten Tomatoes\":\"87%\",\"Netflix\":1.0,\"Hulu\":0,\"Prime Video\":0,\"Disney+\":0,\"Type\":0,\"Directors\":\"Christopher Nolan\",\"Genres\":\"Action,Adventure,Sci-Fi,Thriller\",\"Country\":\"United States,United Kingdom\",\"Language\":\"English,Japanese,French\",\"Runtime\":148.0}'"
      ]
     },
     "execution_count": 57,
     "metadata": {},
     "output_type": "execute_result"
    }
   ],
   "source": [
    "df.iloc[0].to_json()"
   ]
  },
  {
   "cell_type": "code",
   "execution_count": 58,
   "metadata": {},
   "outputs": [
    {
     "data": {
      "text/plain": [
       "'{\"Age\": \"13+\"}'"
      ]
     },
     "execution_count": 58,
     "metadata": {},
     "output_type": "execute_result"
    }
   ],
   "source": [
    "def fill_row(model,row):\n",
    "    res = model.generate_content(\n",
    "            contents= fill_values_template.format(\n",
    "                row_json = row.to_json()\n",
    "            )\n",
    "        )\n",
    "    res = res.text.strip()\n",
    "    res"
   ]
  },
  {
   "cell_type": "code",
   "execution_count": 59,
   "metadata": {},
   "outputs": [
    {
     "data": {
      "text/plain": [
       "'{\"Age\": \"13+\"}'"
      ]
     },
     "execution_count": 59,
     "metadata": {},
     "output_type": "execute_result"
    }
   ],
   "source": []
  }
 ],
 "metadata": {
  "kernelspec": {
   "display_name": ".venv",
   "language": "python",
   "name": "python3"
  },
  "language_info": {
   "codemirror_mode": {
    "name": "ipython",
    "version": 3
   },
   "file_extension": ".py",
   "mimetype": "text/x-python",
   "name": "python",
   "nbconvert_exporter": "python",
   "pygments_lexer": "ipython3",
   "version": "3.12.5"
  }
 },
 "nbformat": 4,
 "nbformat_minor": 2
}
