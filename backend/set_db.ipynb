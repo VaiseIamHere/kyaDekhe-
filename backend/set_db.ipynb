{
 "cells": [
  {
   "cell_type": "code",
   "execution_count": 44,
   "metadata": {},
   "outputs": [],
   "source": [
    "import pandas as pd\n",
    "import numpy as np \n",
    "import google.generativeai as genai\n",
    "from langchain_core.prompts import PromptTemplate"
   ]
  },
  {
   "cell_type": "code",
   "execution_count": 45,
   "metadata": {},
   "outputs": [],
   "source": [
    "df = pd.read_csv(\"MoviesOnStreamingPlatforms_updated.csv\")"
   ]
  },
  {
   "cell_type": "code",
   "execution_count": null,
   "metadata": {},
   "outputs": [],
   "source": [
    "df.isnull().sum()"
   ]
  },
  {
   "cell_type": "code",
   "execution_count": null,
   "metadata": {},
   "outputs": [],
   "source": [
    "df.head()"
   ]
  },
  {
   "cell_type": "code",
   "execution_count": null,
   "metadata": {},
   "outputs": [],
   "source": [
    "df[\"Age\"].unique()"
   ]
  },
  {
   "cell_type": "code",
   "execution_count": null,
   "metadata": {},
   "outputs": [],
   "source": [
    "import json\n",
    "row_as_dict = df.iloc[0].to_dict()\n",
    "row_as_dict"
   ]
  },
  {
   "cell_type": "code",
   "execution_count": 50,
   "metadata": {},
   "outputs": [],
   "source": [
    "row_as_dict[\"Directors\"] = None\n",
    "row_as_dict[\"IMDb\"] = None"
   ]
  },
  {
   "cell_type": "code",
   "execution_count": null,
   "metadata": {},
   "outputs": [],
   "source": [
    "row_as_json =json.dumps(row_as_dict)\n",
    "row_as_json"
   ]
  },
  {
   "cell_type": "code",
   "execution_count": 52,
   "metadata": {},
   "outputs": [],
   "source": [
    "fill_missing_value_prompt = \"\"\"\n",
    "You are a highly skilled data analyst with extensive experience in handling and processing movie datasets. Your expertise lies in identifying missing values and providing insights on how to fill those gaps effectively while ensuring data integrity and accuracy.\n",
    "\n",
    "Your task is to assist in filling missing values in a movie dataset.\n",
    "\n",
    "The runtime will be in minitues\n",
    "\n",
    "The Age will be these ['13+', '18+', '7+', 'all', '16+']\n",
    "**Input Type**: \n",
    "A dictionary of key-value pairs where the keys represent column names and the values represent the available data. Some values may be missing (represented as null or None).\n",
    "\n",
    "**Output Type**: \n",
    "A JSON object that contains only the missing values, filled in with appropriate suggestions based on the dataset’s context. You are expected to maintain data consistency and offer plausible replacements where possible.\n",
    "\n",
    "### Example Input:\n",
    "\n",
    "{{\n",
    "    \"ID\": 1,\n",
    "    \"Title\": \"Inception\",\n",
    "    \"Year\": 2010,\n",
    "    \"Age\": \"13+\",\n",
    "    \"IMDb\": null,\n",
    "    \"Rotten Tomatoes\": \"87%\",\n",
    "    \"Netflix\": 1.0,\n",
    "    \"Hulu\": 0,\n",
    "    \"Prime Video\": 0,\n",
    "    \"Disney+\": 0,\n",
    "    \"Type\": 0,\n",
    "    \"Directors\": null,\n",
    "    \"Genres\": \"Action, Adventure, Sci-Fi, Thriller\",\n",
    "    \"Country\": \"United States, United Kingdom\",\n",
    "    \"Language\": \"English, Japanese, French\",\n",
    "    \"Runtime\": 148.0\n",
    "}}\n",
    "\n",
    "###Example Output\n",
    "{{\n",
    "    \"IMDb\": \"8.8\",\n",
    "    \"Directors\": \"Christopher Nolan\"\n",
    "}}\n",
    "Yoy have to check for null values amd return json with actual values with the exact column name and JSON only.\n",
    "\n",
    "Give output for the following {row_json} ONLY and ONLY in json\n",
    "JUST THE JSON NOTHING ELSE \n",
    "\"\"\""
   ]
  },
  {
   "cell_type": "code",
   "execution_count": 53,
   "metadata": {},
   "outputs": [],
   "source": [
    "fill_values_template = PromptTemplate(\n",
    "    input_variables= [\"row_json\"],\n",
    "    template=fill_missing_value_prompt\n",
    ")"
   ]
  },
  {
   "cell_type": "code",
   "execution_count": 54,
   "metadata": {},
   "outputs": [],
   "source": [
    "import env\n",
    "genai.configure(api_key = env.api_key)\n",
    "model = genai.GenerativeModel(\"gemini-pro\")"
   ]
  },
  {
   "cell_type": "code",
   "execution_count": null,
   "metadata": {},
   "outputs": [],
   "source": [
    "df.iloc[0].to_json()"
   ]
  },
  {
   "cell_type": "code",
   "execution_count": 56,
   "metadata": {},
   "outputs": [],
   "source": [
    "def fill_row(model,row):\n",
    "    res = model.generate_content(\n",
    "            contents= fill_values_template.format(\n",
    "                row_json = row.to_json()\n",
    "            )\n",
    "        )\n",
    "    res = res.text.strip()\n",
    "    return res"
   ]
  },
  {
   "cell_type": "code",
   "execution_count": null,
   "metadata": {},
   "outputs": [],
   "source": [
    "import json\n",
    "import time  \n",
    "\n",
    "for row_index, row in df.iterrows():\n",
    "    if not  row.isnull().any():\n",
    "        continue\n",
    "    filled_row_json = fill_row(model=model, row=row)\n",
    "    filled_row = json.loads(filled_row_json)\n",
    "\n",
    "    for col, value in filled_row.items():  \n",
    "        if col in df.columns:\n",
    "            df.at[row_index, col] = value  \n",
    "\n"
   ]
  },
  {
   "cell_type": "code",
   "execution_count": null,
   "metadata": {},
   "outputs": [],
   "source": [
    "df.isnull().sum()"
   ]
  }
 ],
 "metadata": {
  "kernelspec": {
   "display_name": ".venv",
   "language": "python",
   "name": "python3"
  },
  "language_info": {
   "codemirror_mode": {
    "name": "ipython",
    "version": 3
   },
   "file_extension": ".py",
   "mimetype": "text/x-python",
   "name": "python",
   "nbconvert_exporter": "python",
   "pygments_lexer": "ipython3",
   "version": "3.12.5"
  }
 },
 "nbformat": 4,
 "nbformat_minor": 2
}
